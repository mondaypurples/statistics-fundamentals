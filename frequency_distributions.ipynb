{
 "cells": [
  {
   "cell_type": "markdown",
   "metadata": {},
   "source": [
    "## Simplifying Data\n",
    "\n",
    "Select a variable, count how many times each unique value occurs, and represent the frequencies ie. the number of times the unique value occurs."
   ]
  },
  {
   "cell_type": "code",
   "execution_count": 1,
   "metadata": {},
   "outputs": [
    {
     "data": {
      "text/html": [
       "<div>\n",
       "<style scoped>\n",
       "    .dataframe tbody tr th:only-of-type {\n",
       "        vertical-align: middle;\n",
       "    }\n",
       "\n",
       "    .dataframe tbody tr th {\n",
       "        vertical-align: top;\n",
       "    }\n",
       "\n",
       "    .dataframe thead th {\n",
       "        text-align: right;\n",
       "    }\n",
       "</style>\n",
       "<table border=\"1\" class=\"dataframe\">\n",
       "  <thead>\n",
       "    <tr style=\"text-align: right;\">\n",
       "      <th></th>\n",
       "      <th>Name</th>\n",
       "      <th>Team</th>\n",
       "      <th>Pos</th>\n",
       "      <th>Height</th>\n",
       "      <th>Weight</th>\n",
       "      <th>BMI</th>\n",
       "      <th>Birth_Place</th>\n",
       "      <th>Birthdate</th>\n",
       "      <th>Age</th>\n",
       "      <th>College</th>\n",
       "      <th>...</th>\n",
       "      <th>OREB</th>\n",
       "      <th>DREB</th>\n",
       "      <th>REB</th>\n",
       "      <th>AST</th>\n",
       "      <th>STL</th>\n",
       "      <th>BLK</th>\n",
       "      <th>TO</th>\n",
       "      <th>PTS</th>\n",
       "      <th>DD2</th>\n",
       "      <th>TD3</th>\n",
       "    </tr>\n",
       "  </thead>\n",
       "  <tbody>\n",
       "    <tr>\n",
       "      <th>0</th>\n",
       "      <td>Aerial Powers</td>\n",
       "      <td>DAL</td>\n",
       "      <td>F</td>\n",
       "      <td>183</td>\n",
       "      <td>71.0</td>\n",
       "      <td>21.200991</td>\n",
       "      <td>US</td>\n",
       "      <td>January 17, 1994</td>\n",
       "      <td>23</td>\n",
       "      <td>Michigan State</td>\n",
       "      <td>...</td>\n",
       "      <td>6</td>\n",
       "      <td>22</td>\n",
       "      <td>28</td>\n",
       "      <td>12</td>\n",
       "      <td>3</td>\n",
       "      <td>6</td>\n",
       "      <td>12</td>\n",
       "      <td>93</td>\n",
       "      <td>0</td>\n",
       "      <td>0</td>\n",
       "    </tr>\n",
       "    <tr>\n",
       "      <th>1</th>\n",
       "      <td>Alana Beard</td>\n",
       "      <td>LA</td>\n",
       "      <td>G/F</td>\n",
       "      <td>185</td>\n",
       "      <td>73.0</td>\n",
       "      <td>21.329438</td>\n",
       "      <td>US</td>\n",
       "      <td>May 14, 1982</td>\n",
       "      <td>35</td>\n",
       "      <td>Duke</td>\n",
       "      <td>...</td>\n",
       "      <td>19</td>\n",
       "      <td>82</td>\n",
       "      <td>101</td>\n",
       "      <td>72</td>\n",
       "      <td>63</td>\n",
       "      <td>13</td>\n",
       "      <td>40</td>\n",
       "      <td>217</td>\n",
       "      <td>0</td>\n",
       "      <td>0</td>\n",
       "    </tr>\n",
       "    <tr>\n",
       "      <th>2</th>\n",
       "      <td>Alex Bentley</td>\n",
       "      <td>CON</td>\n",
       "      <td>G</td>\n",
       "      <td>170</td>\n",
       "      <td>69.0</td>\n",
       "      <td>23.875433</td>\n",
       "      <td>US</td>\n",
       "      <td>October 27, 1990</td>\n",
       "      <td>26</td>\n",
       "      <td>Penn State</td>\n",
       "      <td>...</td>\n",
       "      <td>4</td>\n",
       "      <td>36</td>\n",
       "      <td>40</td>\n",
       "      <td>78</td>\n",
       "      <td>22</td>\n",
       "      <td>3</td>\n",
       "      <td>24</td>\n",
       "      <td>218</td>\n",
       "      <td>0</td>\n",
       "      <td>0</td>\n",
       "    </tr>\n",
       "    <tr>\n",
       "      <th>3</th>\n",
       "      <td>Alex Montgomery</td>\n",
       "      <td>SAN</td>\n",
       "      <td>G/F</td>\n",
       "      <td>185</td>\n",
       "      <td>84.0</td>\n",
       "      <td>24.543462</td>\n",
       "      <td>US</td>\n",
       "      <td>December 11, 1988</td>\n",
       "      <td>28</td>\n",
       "      <td>Georgia Tech</td>\n",
       "      <td>...</td>\n",
       "      <td>35</td>\n",
       "      <td>134</td>\n",
       "      <td>169</td>\n",
       "      <td>65</td>\n",
       "      <td>20</td>\n",
       "      <td>10</td>\n",
       "      <td>38</td>\n",
       "      <td>188</td>\n",
       "      <td>2</td>\n",
       "      <td>0</td>\n",
       "    </tr>\n",
       "    <tr>\n",
       "      <th>4</th>\n",
       "      <td>Alexis Jones</td>\n",
       "      <td>MIN</td>\n",
       "      <td>G</td>\n",
       "      <td>175</td>\n",
       "      <td>78.0</td>\n",
       "      <td>25.469388</td>\n",
       "      <td>US</td>\n",
       "      <td>August 5, 1994</td>\n",
       "      <td>23</td>\n",
       "      <td>Baylor</td>\n",
       "      <td>...</td>\n",
       "      <td>3</td>\n",
       "      <td>9</td>\n",
       "      <td>12</td>\n",
       "      <td>12</td>\n",
       "      <td>7</td>\n",
       "      <td>0</td>\n",
       "      <td>14</td>\n",
       "      <td>50</td>\n",
       "      <td>0</td>\n",
       "      <td>0</td>\n",
       "    </tr>\n",
       "  </tbody>\n",
       "</table>\n",
       "<p>5 rows × 32 columns</p>\n",
       "</div>"
      ],
      "text/plain": [
       "              Name Team  Pos  Height  Weight        BMI Birth_Place  \\\n",
       "0    Aerial Powers  DAL    F     183    71.0  21.200991          US   \n",
       "1      Alana Beard   LA  G/F     185    73.0  21.329438          US   \n",
       "2     Alex Bentley  CON    G     170    69.0  23.875433          US   \n",
       "3  Alex Montgomery  SAN  G/F     185    84.0  24.543462          US   \n",
       "4     Alexis Jones  MIN    G     175    78.0  25.469388          US   \n",
       "\n",
       "           Birthdate  Age         College  ... OREB  DREB  REB  AST  STL  BLK  \\\n",
       "0   January 17, 1994   23  Michigan State  ...    6    22   28   12    3    6   \n",
       "1       May 14, 1982   35            Duke  ...   19    82  101   72   63   13   \n",
       "2   October 27, 1990   26      Penn State  ...    4    36   40   78   22    3   \n",
       "3  December 11, 1988   28    Georgia Tech  ...   35   134  169   65   20   10   \n",
       "4     August 5, 1994   23          Baylor  ...    3     9   12   12    7    0   \n",
       "\n",
       "   TO  PTS  DD2  TD3  \n",
       "0  12   93    0    0  \n",
       "1  40  217    0    0  \n",
       "2  24  218    0    0  \n",
       "3  38  188    2    0  \n",
       "4  14   50    0    0  \n",
       "\n",
       "[5 rows x 32 columns]"
      ]
     },
     "execution_count": 1,
     "metadata": {},
     "output_type": "execute_result"
    }
   ],
   "source": [
    "import pandas as pd\n",
    "wnba = pd.read_csv('/Users/brindhamanivannan/Desktop/data-projects/datasets/wnba.csv')\n",
    "wnba.head()"
   ]
  },
  {
   "cell_type": "code",
   "execution_count": 2,
   "metadata": {},
   "outputs": [
    {
     "data": {
      "text/plain": [
       "(143, 32)"
      ]
     },
     "execution_count": 2,
     "metadata": {},
     "output_type": "execute_result"
    }
   ],
   "source": [
    "wnba.shape"
   ]
  },
  {
   "cell_type": "code",
   "execution_count": 3,
   "metadata": {},
   "outputs": [
    {
     "name": "stdout",
     "output_type": "stream",
     "text": [
      "<class 'pandas.core.frame.DataFrame'>\n",
      "RangeIndex: 143 entries, 0 to 142\n",
      "Data columns (total 32 columns):\n",
      " #   Column        Non-Null Count  Dtype  \n",
      "---  ------        --------------  -----  \n",
      " 0   Name          143 non-null    object \n",
      " 1   Team          143 non-null    object \n",
      " 2   Pos           143 non-null    object \n",
      " 3   Height        143 non-null    int64  \n",
      " 4   Weight        142 non-null    float64\n",
      " 5   BMI           142 non-null    float64\n",
      " 6   Birth_Place   143 non-null    object \n",
      " 7   Birthdate     143 non-null    object \n",
      " 8   Age           143 non-null    int64  \n",
      " 9   College       143 non-null    object \n",
      " 10  Experience    143 non-null    object \n",
      " 11  Games Played  143 non-null    int64  \n",
      " 12  MIN           143 non-null    int64  \n",
      " 13  FGM           143 non-null    int64  \n",
      " 14  FGA           143 non-null    int64  \n",
      " 15  FG%           143 non-null    float64\n",
      " 16  15:00         143 non-null    int64  \n",
      " 17  3PA           143 non-null    int64  \n",
      " 18  3P%           143 non-null    float64\n",
      " 19  FTM           143 non-null    int64  \n",
      " 20  FTA           143 non-null    int64  \n",
      " 21  FT%           143 non-null    float64\n",
      " 22  OREB          143 non-null    int64  \n",
      " 23  DREB          143 non-null    int64  \n",
      " 24  REB           143 non-null    int64  \n",
      " 25  AST           143 non-null    int64  \n",
      " 26  STL           143 non-null    int64  \n",
      " 27  BLK           143 non-null    int64  \n",
      " 28  TO            143 non-null    int64  \n",
      " 29  PTS           143 non-null    int64  \n",
      " 30  DD2           143 non-null    int64  \n",
      " 31  TD3           143 non-null    int64  \n",
      "dtypes: float64(5), int64(20), object(7)\n",
      "memory usage: 35.9+ KB\n"
     ]
    }
   ],
   "source": [
    "wnba.info()"
   ]
  },
  {
   "cell_type": "markdown",
   "metadata": {},
   "source": [
    "## Frequencies"
   ]
  },
  {
   "cell_type": "markdown",
   "metadata": {},
   "source": [
    "To generate a frequency distribution table using Python, we can use the Series.value_counts() method."
   ]
  },
  {
   "cell_type": "code",
   "execution_count": 4,
   "metadata": {},
   "outputs": [
    {
     "name": "stdout",
     "output_type": "stream",
     "text": [
      "G      60\n",
      "F      33\n",
      "C      25\n",
      "G/F    13\n",
      "F/C    12\n",
      "Name: Pos, dtype: int64\n"
     ]
    }
   ],
   "source": [
    "print(wnba['Pos'].value_counts())"
   ]
  },
  {
   "cell_type": "markdown",
   "metadata": {},
   "source": [
    "We see how the frequencies are distributed:\n",
    "    \n",
    "- Almost half of the players play as guards\n",
    "- Most of the players are either guards, forwards or centers\n",
    "- Very few players have combined positions (like guard/forward or forward/center) \n",
    "\n",
    "Comparisons:\n",
    "\n",
    "- There are roughly two times more guards than forwards\n",
    "- There are slightly less centers that forwards"
   ]
  },
  {
   "cell_type": "markdown",
   "metadata": {},
   "source": [
    "## Frequency distribution table"
   ]
  },
  {
   "cell_type": "code",
   "execution_count": 5,
   "metadata": {},
   "outputs": [
    {
     "data": {
      "text/plain": [
       "G      60\n",
       "F      33\n",
       "C      25\n",
       "G/F    13\n",
       "F/C    12\n",
       "Name: Pos, dtype: int64"
      ]
     },
     "execution_count": 5,
     "metadata": {},
     "output_type": "execute_result"
    }
   ],
   "source": [
    "freq_distro_pos = wnba['Pos'].value_counts()\n",
    "freq_distro_pos"
   ]
  },
  {
   "cell_type": "code",
   "execution_count": 6,
   "metadata": {},
   "outputs": [
    {
     "data": {
      "text/plain": [
       "188    20\n",
       "193    18\n",
       "175    16\n",
       "185    15\n",
       "191    11\n",
       "183    11\n",
       "173    11\n",
       "196     9\n",
       "178     8\n",
       "180     7\n",
       "170     6\n",
       "198     5\n",
       "201     2\n",
       "168     2\n",
       "206     1\n",
       "165     1\n",
       "Name: Height, dtype: int64"
      ]
     },
     "execution_count": 6,
     "metadata": {},
     "output_type": "execute_result"
    }
   ],
   "source": [
    "freq_distro_height = wnba['Height'].value_counts()\n",
    "freq_distro_height"
   ]
  },
  {
   "cell_type": "markdown",
   "metadata": {},
   "source": [
    "## Sorting frequency distribution tables"
   ]
  },
  {
   "cell_type": "code",
   "execution_count": 7,
   "metadata": {},
   "outputs": [
    {
     "name": "stdout",
     "output_type": "stream",
     "text": [
      "165     1\n",
      "168     2\n",
      "170     6\n",
      "173    11\n",
      "175    16\n",
      "178     8\n",
      "180     7\n",
      "183    11\n",
      "185    15\n",
      "188    20\n",
      "191    11\n",
      "193    18\n",
      "196     9\n",
      "198     5\n",
      "201     2\n",
      "206     1\n",
      "Name: Height, dtype: int64\n"
     ]
    }
   ],
   "source": [
    "print(wnba['Height'].value_counts().sort_index())"
   ]
  },
  {
   "cell_type": "code",
   "execution_count": 8,
   "metadata": {},
   "outputs": [
    {
     "data": {
      "text/plain": [
       "21     2\n",
       "22    10\n",
       "23    15\n",
       "24    16\n",
       "25    15\n",
       "26    12\n",
       "27    13\n",
       "28    14\n",
       "29     8\n",
       "30     9\n",
       "31     8\n",
       "32     8\n",
       "33     3\n",
       "34     5\n",
       "35     4\n",
       "36     1\n",
       "Name: Age, dtype: int64"
      ]
     },
     "execution_count": 8,
     "metadata": {},
     "output_type": "execute_result"
    }
   ],
   "source": [
    "age_ascending = wnba['Age'].value_counts().sort_index()\n",
    "age_ascending"
   ]
  },
  {
   "cell_type": "code",
   "execution_count": 9,
   "metadata": {},
   "outputs": [
    {
     "data": {
      "text/plain": [
       "36     1\n",
       "35     4\n",
       "34     5\n",
       "33     3\n",
       "32     8\n",
       "31     8\n",
       "30     9\n",
       "29     8\n",
       "28    14\n",
       "27    13\n",
       "26    12\n",
       "25    15\n",
       "24    16\n",
       "23    15\n",
       "22    10\n",
       "21     2\n",
       "Name: Age, dtype: int64"
      ]
     },
     "execution_count": 9,
     "metadata": {},
     "output_type": "execute_result"
    }
   ],
   "source": [
    "age_descending = wnba['Age'].value_counts().sort_index(ascending=False)\n",
    "age_descending"
   ]
  },
  {
   "cell_type": "markdown",
   "metadata": {},
   "source": [
    "## Sorting tables for ordinal values"
   ]
  },
  {
   "cell_type": "markdown",
   "metadata": {},
   "source": [
    "The sorting techniques above can't be used for ordinal scales where the measurement is done using words. Let us take the following example."
   ]
  },
  {
   "cell_type": "code",
   "execution_count": 10,
   "metadata": {},
   "outputs": [],
   "source": [
    "def make_pts_ordinal(row):\n",
    "    if row['PTS'] <= 20:\n",
    "        return 'very few points'\n",
    "    if (20 < row['PTS'] <=  80):\n",
    "        return 'few points'\n",
    "    if (80 < row['PTS'] <=  150):\n",
    "        return 'many, but below average'\n",
    "    if (150 < row['PTS'] <= 300):\n",
    "        return 'average number of points'\n",
    "    if (300 < row['PTS'] <=  450):\n",
    "        return 'more than average'\n",
    "    else:\n",
    "        return 'much more than average'\n",
    "    \n",
    "wnba['PTS_ordinal_scale'] = wnba.apply(make_pts_ordinal, axis = 1) # new column"
   ]
  },
  {
   "cell_type": "code",
   "execution_count": 11,
   "metadata": {},
   "outputs": [
    {
     "name": "stdout",
     "output_type": "stream",
     "text": [
      "              Name  PTS         PTS_ordinal_scale\n",
      "0    Aerial Powers   93   many, but below average\n",
      "1      Alana Beard  217  average number of points\n",
      "2     Alex Bentley  218  average number of points\n",
      "3  Alex Montgomery  188  average number of points\n",
      "4     Alexis Jones   50                few points\n"
     ]
    }
   ],
   "source": [
    "print(wnba[['Name', 'PTS', 'PTS_ordinal_scale']].head())"
   ]
  },
  {
   "cell_type": "code",
   "execution_count": 12,
   "metadata": {},
   "outputs": [
    {
     "data": {
      "text/plain": [
       "average number of points    45\n",
       "few points                  27\n",
       "many, but below average     25\n",
       "more than average           21\n",
       "much more than average      13\n",
       "very few points             12\n",
       "Name: PTS_ordinal_scale, dtype: int64"
      ]
     },
     "execution_count": 12,
     "metadata": {},
     "output_type": "execute_result"
    }
   ],
   "source": [
    "wnba['PTS_ordinal_scale'].value_counts()"
   ]
  },
  {
   "cell_type": "code",
   "execution_count": 13,
   "metadata": {},
   "outputs": [
    {
     "data": {
      "text/plain": [
       "much more than average      13\n",
       "more than average           21\n",
       "average number of points    45\n",
       "many, but below average     25\n",
       "few points                  27\n",
       "very few points             12\n",
       "Name: PTS_ordinal_scale, dtype: int64"
      ]
     },
     "execution_count": 13,
     "metadata": {},
     "output_type": "execute_result"
    }
   ],
   "source": [
    "pts_ordinal_desc = wnba['PTS_ordinal_scale'].value_counts()[['much more than average', \n",
    "                                                             'more than average', \n",
    "                                                             'average number of points', \n",
    "                                                             'many, but below average', \n",
    "                                                             'few points', 'very few points']]\n",
    "pts_ordinal_desc"
   ]
  },
  {
   "cell_type": "code",
   "execution_count": 14,
   "metadata": {},
   "outputs": [
    {
     "data": {
      "text/plain": [
       "much more than average      13\n",
       "more than average           21\n",
       "average number of points    45\n",
       "many, but below average     25\n",
       "few points                  27\n",
       "very few points             12\n",
       "Name: PTS_ordinal_scale, dtype: int64"
      ]
     },
     "execution_count": 14,
     "metadata": {},
     "output_type": "execute_result"
    }
   ],
   "source": [
    "pts_ordinal_desc = wnba['PTS_ordinal_scale'].value_counts().iloc[[4, 3, 0, 2, 1, 5]]\n",
    "pts_ordinal_desc"
   ]
  },
  {
   "cell_type": "markdown",
   "metadata": {},
   "source": [
    "## Proportions and percentages"
   ]
  },
  {
   "cell_type": "markdown",
   "metadata": {},
   "source": [
    "Let us take the distribution of the Pos (player position) variable:\n",
    "\n",
    "- What proportion of players are guards?\n",
    "- What percentage of players are centers?\n",
    "- What percentage of players have mixed positions?"
   ]
  },
  {
   "cell_type": "markdown",
   "metadata": {},
   "source": [
    "## Proportions"
   ]
  },
  {
   "cell_type": "code",
   "execution_count": 15,
   "metadata": {},
   "outputs": [
    {
     "name": "stdout",
     "output_type": "stream",
     "text": [
      "G      60\n",
      "F      33\n",
      "C      25\n",
      "G/F    13\n",
      "F/C    12\n",
      "Name: Pos, dtype: int64\n"
     ]
    }
   ],
   "source": [
    "print(wnba['Pos'].value_counts())"
   ]
  },
  {
   "cell_type": "code",
   "execution_count": 16,
   "metadata": {},
   "outputs": [
    {
     "name": "stdout",
     "output_type": "stream",
     "text": [
      "G      0.419580\n",
      "F      0.230769\n",
      "C      0.174825\n",
      "G/F    0.090909\n",
      "F/C    0.083916\n",
      "Name: Pos, dtype: float64\n"
     ]
    }
   ],
   "source": [
    "print(wnba['Pos'].value_counts() / len(wnba))"
   ]
  },
  {
   "cell_type": "code",
   "execution_count": 17,
   "metadata": {},
   "outputs": [
    {
     "name": "stdout",
     "output_type": "stream",
     "text": [
      "G      0.419580\n",
      "F      0.230769\n",
      "C      0.174825\n",
      "G/F    0.090909\n",
      "F/C    0.083916\n",
      "Name: Pos, dtype: float64\n"
     ]
    }
   ],
   "source": [
    "print(wnba['Pos'].value_counts(normalize = True)) # normalize = True makes it slightly faster"
   ]
  },
  {
   "cell_type": "markdown",
   "metadata": {},
   "source": [
    "## Percentages"
   ]
  },
  {
   "cell_type": "code",
   "execution_count": 18,
   "metadata": {},
   "outputs": [
    {
     "name": "stdout",
     "output_type": "stream",
     "text": [
      "G      41.958042\n",
      "F      23.076923\n",
      "C      17.482517\n",
      "G/F     9.090909\n",
      "F/C     8.391608\n",
      "Name: Pos, dtype: float64\n"
     ]
    }
   ],
   "source": [
    "print(wnba['Pos'].value_counts(normalize = True) * 100)"
   ]
  },
  {
   "attachments": {
    "Screen%20Shot%202022-05-30%20at%206.05.43%20PM.png": {
     "image/png": "[encoded data removed]"
    }
   },
   "cell_type": "markdown",
   "metadata": {},
   "source": [
    "![Screen%20Shot%202022-05-30%20at%206.05.43%20PM.png](attachment:Screen%20Shot%202022-05-30%20at%206.05.43%20PM.png)"
   ]
  },
  {
   "cell_type": "code",
   "execution_count": 19,
   "metadata": {},
   "outputs": [
    {
     "data": {
      "text/plain": [
       "21     1.398601\n",
       "22     6.993007\n",
       "23    10.489510\n",
       "24    11.188811\n",
       "25    10.489510\n",
       "26     8.391608\n",
       "27     9.090909\n",
       "28     9.790210\n",
       "29     5.594406\n",
       "30     6.293706\n",
       "31     5.594406\n",
       "32     5.594406\n",
       "33     2.097902\n",
       "34     3.496503\n",
       "35     2.797203\n",
       "36     0.699301\n",
       "Name: Age, dtype: float64"
      ]
     },
     "execution_count": 19,
     "metadata": {},
     "output_type": "execute_result"
    }
   ],
   "source": [
    "percentages = wnba['Age'].value_counts(normalize = True).sort_index() * 100\n",
    "percentages"
   ]
  },
  {
   "cell_type": "code",
   "execution_count": 20,
   "metadata": {},
   "outputs": [
    {
     "data": {
      "text/plain": [
       "0.1048951048951049"
      ]
     },
     "execution_count": 20,
     "metadata": {},
     "output_type": "execute_result"
    }
   ],
   "source": [
    "proportion_25 = percentages[25] / 100\n",
    "proportion_25\n"
   ]
  },
  {
   "cell_type": "code",
   "execution_count": 21,
   "metadata": {},
   "outputs": [
    {
     "data": {
      "text/plain": [
       "6.293706293706294"
      ]
     },
     "execution_count": 21,
     "metadata": {},
     "output_type": "execute_result"
    }
   ],
   "source": [
    "percentage_30 = percentages[30]\n",
    "percentage_30\n"
   ]
  },
  {
   "cell_type": "code",
   "execution_count": 22,
   "metadata": {},
   "outputs": [
    {
     "data": {
      "text/plain": [
       "26.573426573426573"
      ]
     },
     "execution_count": 22,
     "metadata": {},
     "output_type": "execute_result"
    }
   ],
   "source": [
    "percentage_over_30 = percentages.loc[30:].sum()\n",
    "percentage_over_30\n"
   ]
  },
  {
   "cell_type": "code",
   "execution_count": 23,
   "metadata": {},
   "outputs": [
    {
     "data": {
      "text/plain": [
       "18.88111888111888"
      ]
     },
     "execution_count": 23,
     "metadata": {},
     "output_type": "execute_result"
    }
   ],
   "source": [
    "percentage_below_23 = percentages.loc[:23].sum()\n",
    "percentage_below_23"
   ]
  },
  {
   "cell_type": "markdown",
   "metadata": {},
   "source": [
    "The percentage of players aged 23 years or younger is 18.88%"
   ]
  },
  {
   "cell_type": "markdown",
   "metadata": {},
   "source": [
    "## Percentiles and percentile Ranks"
   ]
  },
  {
   "cell_type": "markdown",
   "metadata": {},
   "source": [
    "19% of the ages in the dataset are 23 or lower. This 19% is called percentile rank. \n",
    "\n",
    "In this context, the value of 23 is called the 19th percentile. If a value x is the 19th percentile, it means that 19% of all the values in the distribution are equal to or less than x."
   ]
  },
  {
   "cell_type": "code",
   "execution_count": 24,
   "metadata": {},
   "outputs": [
    {
     "data": {
      "text/plain": [
       "21"
      ]
     },
     "execution_count": 24,
     "metadata": {},
     "output_type": "execute_result"
    }
   ],
   "source": [
    " wnba['Age'].min()"
   ]
  },
  {
   "cell_type": "code",
   "execution_count": 25,
   "metadata": {},
   "outputs": [
    {
     "data": {
      "text/plain": [
       "36"
      ]
     },
     "execution_count": 25,
     "metadata": {},
     "output_type": "execute_result"
    }
   ],
   "source": [
    " wnba['Age'].max()"
   ]
  },
  {
   "cell_type": "markdown",
   "metadata": {},
   "source": [
    "23 has a percentile rank of 19%. This means 23 is the 19th percentile."
   ]
  },
  {
   "cell_type": "markdown",
   "metadata": {},
   "source": [
    "\"What percentage of players are 23 years or younger?\" Answer: 18.881%"
   ]
  },
  {
   "cell_type": "code",
   "execution_count": 26,
   "metadata": {},
   "outputs": [
    {
     "name": "stdout",
     "output_type": "stream",
     "text": [
      "18.88111888111888\n"
     ]
    }
   ],
   "source": [
    "from scipy.stats import percentileofscore\n",
    "print(percentileofscore(a = wnba['Age'], score = 23, kind = 'weak'))"
   ]
  },
  {
   "cell_type": "markdown",
   "metadata": {},
   "source": [
    "We need to use kind = 'weak' to indicate that we want to find the percentage of values that are equal to or less than the value we specify in the score parameter."
   ]
  },
  {
   "cell_type": "markdown",
   "metadata": {},
   "source": [
    "Another question, what percentage of players are 30 years or older? Percentile ranks is the answer. \n",
    "\n",
    "First, find the % of values equal to or less than 29 years. That is the percentile rank of 29. The rest of the values must be 30 years or more."
   ]
  },
  {
   "cell_type": "code",
   "execution_count": 27,
   "metadata": {},
   "outputs": [
    {
     "name": "stdout",
     "output_type": "stream",
     "text": [
      "73.42657342657343\n"
     ]
    }
   ],
   "source": [
    "print(percentileofscore(wnba['Age'], 29, kind = 'weak'))"
   ]
  },
  {
   "cell_type": "code",
   "execution_count": 28,
   "metadata": {},
   "outputs": [
    {
     "data": {
      "text/plain": [
       "26.573426573426573"
      ]
     },
     "execution_count": 28,
     "metadata": {},
     "output_type": "execute_result"
    }
   ],
   "source": [
    "100 - 73.42657342657343"
   ]
  },
  {
   "cell_type": "code",
   "execution_count": 29,
   "metadata": {},
   "outputs": [
    {
     "name": "stdout",
     "output_type": "stream",
     "text": [
      "26.573426573426573\n"
     ]
    }
   ],
   "source": [
    "print(100 - percentileofscore(wnba['Age'], 29, kind = 'weak'))"
   ]
  },
  {
   "cell_type": "markdown",
   "metadata": {},
   "source": [
    "### What percentage of players played half the number of games or less in the 2016-2017 season?"
   ]
  },
  {
   "cell_type": "code",
   "execution_count": 30,
   "metadata": {},
   "outputs": [
    {
     "name": "stdout",
     "output_type": "stream",
     "text": [
      "Index(['Name', 'Team', 'Pos', 'Height', 'Weight', 'BMI', 'Birth_Place',\n",
      "       'Birthdate', 'Age', 'College', 'Experience', 'Games Played', 'MIN',\n",
      "       'FGM', 'FGA', 'FG%', '15:00', '3PA', '3P%', 'FTM', 'FTA', 'FT%', 'OREB',\n",
      "       'DREB', 'REB', 'AST', 'STL', 'BLK', 'TO', 'PTS', 'DD2', 'TD3',\n",
      "       'PTS_ordinal_scale'],\n",
      "      dtype='object')\n"
     ]
    }
   ],
   "source": [
    "print(wnba.columns)\n"
   ]
  },
  {
   "cell_type": "code",
   "execution_count": 31,
   "metadata": {},
   "outputs": [
    {
     "data": {
      "text/plain": [
       "0       8\n",
       "1      30\n",
       "2      26\n",
       "3      31\n",
       "4      24\n",
       "       ..\n",
       "138    29\n",
       "139    22\n",
       "140    27\n",
       "141    29\n",
       "142    30\n",
       "Name: Games Played, Length: 143, dtype: int64"
      ]
     },
     "execution_count": 31,
     "metadata": {},
     "output_type": "execute_result"
    }
   ],
   "source": [
    "wnba['Games Played']"
   ]
  },
  {
   "cell_type": "code",
   "execution_count": 32,
   "metadata": {},
   "outputs": [
    {
     "name": "stdout",
     "output_type": "stream",
     "text": [
      "2\n",
      "32\n"
     ]
    }
   ],
   "source": [
    "print(wnba['Games Played'].min())\n",
    "print(wnba['Games Played'].max())"
   ]
  },
  {
   "cell_type": "code",
   "execution_count": 33,
   "metadata": {},
   "outputs": [
    {
     "data": {
      "text/plain": [
       "17.0"
      ]
     },
     "execution_count": 33,
     "metadata": {},
     "output_type": "execute_result"
    }
   ],
   "source": [
    "# there are 34 games in the WNBA’s regular season\n",
    "34/2"
   ]
  },
  {
   "cell_type": "code",
   "execution_count": 34,
   "metadata": {},
   "outputs": [
    {
     "data": {
      "text/plain": [
       "83.91608391608392"
      ]
     },
     "execution_count": 34,
     "metadata": {},
     "output_type": "execute_result"
    }
   ],
   "source": [
    "from scipy.stats import percentileofscore\n",
    "percentile_rank_half_less = percentileofscore(wnba['Games Played'], 17, kind = 'weak') # half the number of games = 17\n",
    "percentage_half_more = 100 - percentile_rank_half_less\n",
    "percentage_half_more"
   ]
  },
  {
   "cell_type": "markdown",
   "metadata": {},
   "source": [
    "We need to use kind = 'weak' to indicate that we want to find the percentage of values thar are equal to or less than the value we specify in the score parameter."
   ]
  },
  {
   "cell_type": "markdown",
   "metadata": {},
   "source": [
    "## Finding percentiles with pandas"
   ]
  },
  {
   "cell_type": "code",
   "execution_count": 35,
   "metadata": {},
   "outputs": [
    {
     "name": "stdout",
     "output_type": "stream",
     "text": [
      "count    143.000000\n",
      "mean      27.076923\n",
      "std        3.679170\n",
      "min       21.000000\n",
      "25%       24.000000\n",
      "50%       27.000000\n",
      "75%       30.000000\n",
      "max       36.000000\n",
      "Name: Age, dtype: float64\n"
     ]
    }
   ],
   "source": [
    "print(wnba['Age'].describe())"
   ]
  },
  {
   "cell_type": "markdown",
   "metadata": {},
   "source": [
    "Series.desribe() returns by default the 25th, the 50th, and the 75th percentiles"
   ]
  },
  {
   "cell_type": "code",
   "execution_count": 36,
   "metadata": {},
   "outputs": [
    {
     "name": "stdout",
     "output_type": "stream",
     "text": [
      "min    21.0\n",
      "25%    24.0\n",
      "50%    27.0\n",
      "75%    30.0\n",
      "max    36.0\n",
      "Name: Age, dtype: float64\n"
     ]
    }
   ],
   "source": [
    "print(wnba['Age'].describe().iloc[3:])"
   ]
  },
  {
   "cell_type": "code",
   "execution_count": 37,
   "metadata": {},
   "outputs": [
    {
     "name": "stdout",
     "output_type": "stream",
     "text": [
      "min      21.0\n",
      "10%      23.0\n",
      "15%      23.0\n",
      "33%      25.0\n",
      "50%      27.0\n",
      "59.2%    28.0\n",
      "85%      31.0\n",
      "90%      32.0\n",
      "max      36.0\n",
      "Name: Age, dtype: float64\n"
     ]
    }
   ],
   "source": [
    "print(wnba['Age'].describe(percentiles = [.1, .15, .33, .5, .592, .85, .9]).iloc[3:])"
   ]
  },
  {
   "cell_type": "markdown",
   "metadata": {},
   "source": [
    "## Grouped frequency distribution tables"
   ]
  },
  {
   "cell_type": "code",
   "execution_count": 38,
   "metadata": {},
   "outputs": [
    {
     "name": "stdout",
     "output_type": "stream",
     "text": [
      "55.0      1\n",
      "57.0      1\n",
      "58.0      1\n",
      "59.0      2\n",
      "62.0      1\n",
      "63.0      3\n",
      "64.0      5\n",
      "65.0      4\n",
      "66.0      8\n",
      "67.0      1\n",
      "68.0      2\n",
      "69.0      2\n",
      "70.0      3\n",
      "71.0      2\n",
      "73.0      6\n",
      "74.0      4\n",
      "75.0      4\n",
      "76.0      4\n",
      "77.0     10\n",
      "78.0      5\n",
      "79.0      6\n",
      "80.0      3\n",
      "81.0      5\n",
      "82.0      4\n",
      "83.0      4\n",
      "84.0      9\n",
      "85.0      2\n",
      "86.0      7\n",
      "87.0      6\n",
      "88.0      6\n",
      "89.0      3\n",
      "90.0      2\n",
      "91.0      3\n",
      "93.0      3\n",
      "95.0      2\n",
      "96.0      2\n",
      "97.0      1\n",
      "104.0     2\n",
      "108.0     1\n",
      "113.0     2\n",
      "Name: Weight, dtype: int64\n"
     ]
    }
   ],
   "source": [
    "print(wnba['Weight'].value_counts().sort_index())"
   ]
  },
  {
   "cell_type": "code",
   "execution_count": 39,
   "metadata": {},
   "outputs": [
    {
     "name": "stdout",
     "output_type": "stream",
     "text": [
      "2      1\n",
      "3      1\n",
      "6      2\n",
      "7      1\n",
      "8      1\n",
      "      ..\n",
      "545    1\n",
      "572    1\n",
      "577    1\n",
      "582    1\n",
      "584    1\n",
      "Name: PTS, Length: 123, dtype: int64\n"
     ]
    }
   ],
   "source": [
    "print(wnba['PTS'].value_counts().sort_index())"
   ]
  },
  {
   "cell_type": "code",
   "execution_count": 40,
   "metadata": {},
   "outputs": [
    {
     "name": "stdout",
     "output_type": "stream",
     "text": [
      "18.390675    1\n",
      "18.612245    1\n",
      "19.265306    1\n",
      "19.486961    1\n",
      "19.753086    1\n",
      "            ..\n",
      "27.920213    1\n",
      "28.507990    1\n",
      "29.414827    1\n",
      "30.336385    1\n",
      "31.555880    1\n",
      "Name: BMI, Length: 107, dtype: int64\n"
     ]
    }
   ],
   "source": [
    "print(wnba['BMI'].value_counts().sort_index())"
   ]
  },
  {
   "cell_type": "code",
   "execution_count": 41,
   "metadata": {},
   "outputs": [
    {
     "name": "stdout",
     "output_type": "stream",
     "text": [
      "12      1\n",
      "16      1\n",
      "22      1\n",
      "28      1\n",
      "32      1\n",
      "       ..\n",
      "947     1\n",
      "948     1\n",
      "952     2\n",
      "996     1\n",
      "1018    1\n",
      "Name: MIN, Length: 132, dtype: int64\n"
     ]
    }
   ],
   "source": [
    "print(wnba['MIN'].value_counts().sort_index())"
   ]
  },
  {
   "cell_type": "markdown",
   "metadata": {},
   "source": [
    "There is a lot of granularity in the table above, and hence it is not easy to find patterns. The table for the Weight variable is a relatively happy case - the frequency tables for variables like PTS, BMI, or MIN are even more daunting."
   ]
  },
  {
   "cell_type": "markdown",
   "metadata": {},
   "source": [
    "What's the solution? If the variable is measured on an interval or ratio scale, a common solution to this problem is to group the values in equal intervals. For the Weight variable, the values range from 55 to 113 kg, which amounts to a difference of 58 kg. We can try to segment this 58 kg interval in ten smaller and equal intervals. This will result in ten intervals of 5.8 kg each.\n",
    "Fortunately, pandas can handle this process gracefully. "
   ]
  },
  {
   "cell_type": "code",
   "execution_count": 42,
   "metadata": {},
   "outputs": [
    {
     "name": "stdout",
     "output_type": "stream",
     "text": [
      "(54.941, 60.8]     5\n",
      "(60.8, 66.6]      21\n",
      "(66.6, 72.4]      10\n",
      "(72.4, 78.2]      33\n",
      "(78.2, 84.0]      31\n",
      "(84.0, 89.8]      24\n",
      "(89.8, 95.6]      10\n",
      "(95.6, 101.4]      3\n",
      "(101.4, 107.2]     2\n",
      "(107.2, 113.0]     3\n",
      "Name: Weight, dtype: int64\n"
     ]
    }
   ],
   "source": [
    "print(wnba['Weight'].value_counts(bins = 10).sort_index())"
   ]
  },
  {
   "cell_type": "markdown",
   "metadata": {},
   "source": [
    " The ( character indicates that the starting point is not included, while the ] indicates that the endpoint is included."
   ]
  },
  {
   "cell_type": "markdown",
   "metadata": {},
   "source": [
    "Using the grouped frequency distribution table we generated above for the Weight variable, we can find patterns easier in the distribution of values:\n",
    "\n",
    "- Most players weigh somewhere between 70 and 90 kg\n",
    "- Very few players weigh over 100 kg\n",
    "- Very few players weigh under 60 kg"
   ]
  },
  {
   "cell_type": "code",
   "execution_count": 43,
   "metadata": {},
   "outputs": [],
   "source": [
    "grouped_freq_table = wnba['PTS'].value_counts(bins = 10,\n",
    "                normalize = True).sort_index(ascending = False) * 100"
   ]
  },
  {
   "cell_type": "code",
   "execution_count": 44,
   "metadata": {},
   "outputs": [
    {
     "data": {
      "text/plain": [
       "(525.8, 584.0]     3.496503\n",
       "(467.6, 525.8]     2.797203\n",
       "(409.4, 467.6]     5.594406\n",
       "(351.2, 409.4]     6.993007\n",
       "(293.0, 351.2]     5.594406\n",
       "(234.8, 293.0]    11.888112\n",
       "(176.6, 234.8]    13.986014\n",
       "(118.4, 176.6]    11.888112\n",
       "(60.2, 118.4]     16.783217\n",
       "(1.417, 60.2]     20.979021\n",
       "Name: PTS, dtype: float64"
      ]
     },
     "execution_count": 44,
     "metadata": {},
     "output_type": "execute_result"
    }
   ],
   "source": [
    "grouped_freq_table"
   ]
  },
  {
   "cell_type": "markdown",
   "metadata": {},
   "source": [
    "- The PTS table has 10 class intervals\n",
    "- For each class interval, the table shows percentages instead of frequencies\n",
    "- The class intervals are sorted in descending order\n"
   ]
  },
  {
   "cell_type": "markdown",
   "metadata": {},
   "source": [
    "## Information loss"
   ]
  },
  {
   "cell_type": "markdown",
   "metadata": {},
   "source": [
    "When we generate grouped frequency distribution tables, there's an inevitable information loss. Let's consider this table below"
   ]
  },
  {
   "cell_type": "code",
   "execution_count": 45,
   "metadata": {},
   "outputs": [
    {
     "name": "stdout",
     "output_type": "stream",
     "text": [
      "(1.417, 60.2]     30\n",
      "(60.2, 118.4]     24\n",
      "(176.6, 234.8]    20\n",
      "(234.8, 293.0]    17\n",
      "(118.4, 176.6]    17\n",
      "(351.2, 409.4]    10\n",
      "(409.4, 467.6]     8\n",
      "(293.0, 351.2]     8\n",
      "(525.8, 584.0]     5\n",
      "(467.6, 525.8]     4\n",
      "Name: PTS, dtype: int64\n"
     ]
    }
   ],
   "source": [
    "print(wnba['PTS'].value_counts(bins = 10))"
   ]
  },
  {
   "cell_type": "markdown",
   "metadata": {},
   "source": [
    "Because we grouped the values, we lost more granular information like:\n",
    "    \n",
    "- How many players, if any, scored exactly 50 points.\n",
    "- How many players scored under 10 points.\n",
    "- How many players scored between 20 and 30 points, etc.\n",
    "\n",
    "To get back this granular information, we can increase the number of class intervals. However, if we do that, we end up again with a table that's lengthy and very difficult to analyze.\n",
    "\n",
    "On the other side, if we decrease the number of class intervals, we lose even more information:"
   ]
  },
  {
   "cell_type": "code",
   "execution_count": 46,
   "metadata": {},
   "outputs": [
    {
     "name": "stdout",
     "output_type": "stream",
     "text": [
      "(1.417, 118.4]    54\n",
      "(118.4, 234.8]    37\n",
      "(234.8, 351.2]    25\n",
      "(351.2, 467.6]    18\n",
      "(467.6, 584.0]     9\n",
      "Name: PTS, dtype: int64\n"
     ]
    }
   ],
   "source": [
    "print(wnba['PTS'].value_counts(bins = 5).sort_index())"
   ]
  },
  {
   "cell_type": "markdown",
   "metadata": {},
   "source": [
    "There are 54 players that scored between 2 and 118 points. We can get this information from the first table above too, but there's some extra information there: among these 54 players, 30 scored between 2 and 60 points, and 24 scored between 61 and 118 points. We lost this information when we decreased the number of class intervals from 10 to 5.\n",
    "\n",
    "We can conclude there is a trade-off between the information in a table, and how comprehensible the table is. When we increase the number of class intervals(each group interval in a grouped frequency distribution table), we can get more information, but the table becomes harder to analyze. When we decrease the number of class intervals, we get a boost in comprehensibility, but the amount of information in the table decreases.\n",
    "\n",
    "As a rule of thumb, 10 is a good number of class intervals to choose because it offers a good balance between information and comprehensibility."
   ]
  },
  {
   "cell_type": "code",
   "execution_count": 47,
   "metadata": {},
   "outputs": [
    {
     "data": {
      "text/plain": [
       "(10.993, 1018.0]    100.0\n",
       "Name: MIN, dtype: float64"
      ]
     },
     "execution_count": 47,
     "metadata": {},
     "output_type": "execute_result"
    }
   ],
   "source": [
    "grouped_freq_table_1 = wnba['MIN'].value_counts(bins=1, normalize=True).sort_index(ascending=False) * 100\n",
    "grouped_freq_table_1"
   ]
  },
  {
   "cell_type": "code",
   "execution_count": 48,
   "metadata": {},
   "outputs": [
    {
     "data": {
      "text/plain": [
       "(515.0, 1018.0]    48.251748\n",
       "(10.993, 515.0]    51.748252\n",
       "Name: MIN, dtype: float64"
      ]
     },
     "execution_count": 48,
     "metadata": {},
     "output_type": "execute_result"
    }
   ],
   "source": [
    "grouped_freq_table_2 = wnba['MIN'].value_counts(bins=2, normalize=True).sort_index(ascending=False) * 100\n",
    "grouped_freq_table_2"
   ]
  },
  {
   "cell_type": "code",
   "execution_count": 49,
   "metadata": {},
   "outputs": [
    {
     "data": {
      "text/plain": [
       "(682.667, 1018.0]     31.468531\n",
       "(347.333, 682.667]    34.965035\n",
       "(10.993, 347.333]     33.566434\n",
       "Name: MIN, dtype: float64"
      ]
     },
     "execution_count": 49,
     "metadata": {},
     "output_type": "execute_result"
    }
   ],
   "source": [
    "grouped_freq_table_3 = wnba['MIN'].value_counts(bins=3, normalize=True).sort_index(ascending=False) * 100\n",
    "grouped_freq_table_3"
   ]
  },
  {
   "cell_type": "code",
   "execution_count": 50,
   "metadata": {},
   "outputs": [
    {
     "data": {
      "text/plain": [
       "(816.8, 1018.0]    19.580420\n",
       "(615.6, 816.8]     20.279720\n",
       "(414.4, 615.6]     17.482517\n",
       "(213.2, 414.4]     22.377622\n",
       "(10.993, 213.2]    20.279720\n",
       "Name: MIN, dtype: float64"
      ]
     },
     "execution_count": 50,
     "metadata": {},
     "output_type": "execute_result"
    }
   ],
   "source": [
    "grouped_freq_table_5 = wnba['MIN'].value_counts(bins=5, normalize=True).sort_index(ascending=False) * 100\n",
    "grouped_freq_table_5"
   ]
  },
  {
   "cell_type": "code",
   "execution_count": 51,
   "metadata": {},
   "outputs": [
    {
     "data": {
      "text/plain": [
       "(917.4, 1018.0]     6.293706\n",
       "(816.8, 917.4]     13.286713\n",
       "(716.2, 816.8]      9.790210\n",
       "(615.6, 716.2]     10.489510\n",
       "(515.0, 615.6]      8.391608\n",
       "(414.4, 515.0]      9.090909\n",
       "(313.8, 414.4]     10.489510\n",
       "(213.2, 313.8]     11.888112\n",
       "(112.6, 213.2]      6.993007\n",
       "(10.993, 112.6]    13.286713\n",
       "Name: MIN, dtype: float64"
      ]
     },
     "execution_count": 51,
     "metadata": {},
     "output_type": "execute_result"
    }
   ],
   "source": [
    "grouped_freq_table_10 = wnba['MIN'].value_counts(bins=10, normalize=True).sort_index(ascending=False) * 100\n",
    "grouped_freq_table_10"
   ]
  },
  {
   "cell_type": "code",
   "execution_count": 52,
   "metadata": {},
   "outputs": [
    {
     "data": {
      "text/plain": [
       "(950.933, 1018.0]     2.797203\n",
       "(883.867, 950.933]    7.692308\n",
       "(816.8, 883.867]      9.090909\n",
       "(749.733, 816.8]      5.594406\n",
       "(682.667, 749.733]    6.293706\n",
       "(615.6, 682.667]      8.391608\n",
       "(548.533, 615.6]      6.293706\n",
       "(481.467, 548.533]    5.594406\n",
       "(414.4, 481.467]      5.594406\n",
       "(347.333, 414.4]      9.090909\n",
       "(280.267, 347.333]    4.195804\n",
       "(213.2, 280.267]      9.090909\n",
       "(146.133, 213.2]      2.797203\n",
       "(79.067, 146.133]     7.692308\n",
       "(10.993, 79.067]      9.790210\n",
       "Name: MIN, dtype: float64"
      ]
     },
     "execution_count": 52,
     "metadata": {},
     "output_type": "execute_result"
    }
   ],
   "source": [
    "grouped_freq_table_15 = wnba['MIN'].value_counts(bins=15, normalize=True).sort_index(ascending=False) * 100\n",
    "grouped_freq_table_15"
   ]
  },
  {
   "cell_type": "code",
   "execution_count": 53,
   "metadata": {},
   "outputs": [
    {
     "data": {
      "text/plain": [
       "(967.7, 1018.0]    1.398601\n",
       "(917.4, 967.7]     4.895105\n",
       "(867.1, 917.4]     4.895105\n",
       "(816.8, 867.1]     8.391608\n",
       "(766.5, 816.8]     2.797203\n",
       "(716.2, 766.5]     6.993007\n",
       "(665.9, 716.2]     5.594406\n",
       "(615.6, 665.9]     4.895105\n",
       "(565.3, 615.6]     5.594406\n",
       "(515.0, 565.3]     2.797203\n",
       "(464.7, 515.0]     4.895105\n",
       "(414.4, 464.7]     4.195804\n",
       "(364.1, 414.4]     6.293706\n",
       "(313.8, 364.1]     4.195804\n",
       "(263.5, 313.8]     4.195804\n",
       "(213.2, 263.5]     7.692308\n",
       "(162.9, 213.2]     2.797203\n",
       "(112.6, 162.9]     4.195804\n",
       "(62.3, 112.6]      4.895105\n",
       "(10.993, 62.3]     8.391608\n",
       "Name: MIN, dtype: float64"
      ]
     },
     "execution_count": 53,
     "metadata": {},
     "output_type": "execute_result"
    }
   ],
   "source": [
    "grouped_freq_table_20 = wnba['MIN'].value_counts(bins=20, normalize=True).sort_index(ascending=False) * 100\n",
    "grouped_freq_table_20"
   ]
  },
  {
   "cell_type": "code",
   "execution_count": 54,
   "metadata": {},
   "outputs": [
    {
     "data": {
      "text/plain": [
       "(992.85, 1018.0]    1.398601\n",
       "(967.7, 992.85]     0.000000\n",
       "(942.55, 967.7]     2.797203\n",
       "(917.4, 942.55]     2.097902\n",
       "(892.25, 917.4]     2.797203\n",
       "(867.1, 892.25]     2.097902\n",
       "(841.95, 867.1]     4.195804\n",
       "(816.8, 841.95]     4.195804\n",
       "(791.65, 816.8]     2.097902\n",
       "(766.5, 791.65]     0.699301\n",
       "(741.35, 766.5]     3.496503\n",
       "(716.2, 741.35]     3.496503\n",
       "(691.05, 716.2]     2.097902\n",
       "(665.9, 691.05]     3.496503\n",
       "(640.75, 665.9]     2.097902\n",
       "(615.6, 640.75]     2.797203\n",
       "(590.45, 615.6]     3.496503\n",
       "(565.3, 590.45]     2.097902\n",
       "(540.15, 565.3]     0.699301\n",
       "(515.0, 540.15]     2.097902\n",
       "(489.85, 515.0]     2.797203\n",
       "(464.7, 489.85]     2.097902\n",
       "(439.55, 464.7]     3.496503\n",
       "(414.4, 439.55]     0.699301\n",
       "(389.25, 414.4]     2.097902\n",
       "(364.1, 389.25]     4.195804\n",
       "(338.95, 364.1]     2.797203\n",
       "(313.8, 338.95]     1.398601\n",
       "(288.65, 313.8]     1.398601\n",
       "(263.5, 288.65]     2.797203\n",
       "(238.35, 263.5]     2.797203\n",
       "(213.2, 238.35]     4.895105\n",
       "(188.05, 213.2]     2.097902\n",
       "(162.9, 188.05]     0.699301\n",
       "(137.75, 162.9]     1.398601\n",
       "(112.6, 137.75]     2.797203\n",
       "(87.45, 112.6]      2.797203\n",
       "(62.3, 87.45]       2.097902\n",
       "(37.15, 62.3]       4.895105\n",
       "(10.993, 37.15]     3.496503\n",
       "Name: MIN, dtype: float64"
      ]
     },
     "execution_count": 54,
     "metadata": {},
     "output_type": "execute_result"
    }
   ],
   "source": [
    "grouped_freq_table_40 = wnba['MIN'].value_counts(bins=40, normalize=True).sort_index(ascending=False) * 100\n",
    "grouped_freq_table_40"
   ]
  },
  {
   "cell_type": "markdown",
   "metadata": {},
   "source": [
    "## Readability for grouped frequency tables"
   ]
  },
  {
   "cell_type": "markdown",
   "metadata": {},
   "source": [
    "We can define the intervals ourselves for better understanding and readability."
   ]
  },
  {
   "cell_type": "code",
   "execution_count": 55,
   "metadata": {},
   "outputs": [
    {
     "name": "stdout",
     "output_type": "stream",
     "text": [
      "IntervalIndex([(0, 100], (100, 200], (200, 300], (300, 400], (400, 500], (500, 600]],\n",
      "              closed='right',\n",
      "              dtype='interval[int64]')\n"
     ]
    }
   ],
   "source": [
    "intervals = pd.interval_range(start = 0, end = 600, freq = 100)\n",
    "print(intervals)"
   ]
  },
  {
   "cell_type": "code",
   "execution_count": 56,
   "metadata": {},
   "outputs": [
    {
     "name": "stdout",
     "output_type": "stream",
     "text": [
      "(0, 100]      49\n",
      "(100, 200]    28\n",
      "(200, 300]    32\n",
      "(300, 400]    17\n",
      "(400, 500]    10\n",
      "(500, 600]     7\n",
      "Name: PTS, dtype: int64\n"
     ]
    }
   ],
   "source": [
    "gr_freq_table = wnba[\"PTS\"].value_counts(bins = intervals).sort_index()\n",
    "print(gr_freq_table)"
   ]
  },
  {
   "cell_type": "code",
   "execution_count": 57,
   "metadata": {},
   "outputs": [
    {
     "name": "stdout",
     "output_type": "stream",
     "text": [
      "143\n"
     ]
    }
   ],
   "source": [
    "print(gr_freq_table.sum())"
   ]
  },
  {
   "cell_type": "markdown",
   "metadata": {},
   "source": [
    "## Grouped frequency table for the PTS variable\n",
    "\n",
    "- The first class interval starts at 0 (not included).\n",
    "- The last class interval ends at 600 (included).\n",
    "- Each interval has a range of 60 points.\n",
    "- There are 10 class intervals."
   ]
  },
  {
   "cell_type": "code",
   "execution_count": 58,
   "metadata": {},
   "outputs": [
    {
     "data": {
      "text/plain": [
       "IntervalIndex([(0, 60], (60, 120], (120, 180], (180, 240], (240, 300], (300, 360], (360, 420], (420, 480], (480, 540], (540, 600]],\n",
       "              closed='right',\n",
       "              dtype='interval[int64]')"
      ]
     },
     "execution_count": 58,
     "metadata": {},
     "output_type": "execute_result"
    }
   ],
   "source": [
    "intervals = pd.interval_range(start = 0, end = 600, freq = 60)\n",
    "intervals"
   ]
  },
  {
   "cell_type": "code",
   "execution_count": 59,
   "metadata": {},
   "outputs": [
    {
     "data": {
      "text/plain": [
       "(0, 60]       30\n",
       "(60, 120]     25\n",
       "(120, 180]    17\n",
       "(180, 240]    22\n",
       "(240, 300]    15\n",
       "(300, 360]     7\n",
       "(360, 420]    11\n",
       "(420, 480]     7\n",
       "(480, 540]     4\n",
       "(540, 600]     5\n",
       "Name: PTS, dtype: int64"
      ]
     },
     "execution_count": 59,
     "metadata": {},
     "output_type": "execute_result"
    }
   ],
   "source": [
    "gr_freq_table_10 = wnba[\"PTS\"].value_counts(bins = intervals).sort_index()\n",
    "gr_freq_table_10"
   ]
  },
  {
   "cell_type": "markdown",
   "metadata": {},
   "source": [
    "## Frequency tables and continuous variables\n",
    "\n",
    "### Real Limits\n",
    "\n",
    "If we measure the weight with zero decimals precision (which we do in our dataset), a player weighing 77.4 kg will be assigned the same weight (77 kg) as a player weighing 76.6 kg. So if a player's recorded weight is 77 kg, we can only tell that her actual weight is somewhere between 76.5 kg and 77.5 kg. The value of 77 is not really a distinct value here. Rather, it's an interval of values.\n",
    "\n",
    "This principle applies to any possible numerical weight value. If a player is measured to weigh 76.5 kg, we can only tell that her weight is somewhere between 76.45 kg and 76.55 kg. If a player has 77.50 kg, we can only tell that her weight is somewhere between 77.495 kg and 77.505 kg. Because there can be an infinite number of decimals, we could continue this breakdown infinitely.\n",
    "\n",
    "Generally, every value of a continuous variable is an interval, no matter how precise the value is. The boundaries of an interval are sometimes called real limits. The lower boundary of the interval is called lower real limit, and the upper boundary is called upper real limit.\n",
    "\n",
    "When we build frequency tables for continuous variables, we need to take into account that the values are intervals.\n",
    "A height of 175 cm is just an interval bounded by the real limits of 174.5 cm (lower real limit) and 175.5 (upper real limit).\n",
    "\n",
    "This doesn't mean that there are 16 players that are all exactly 175 cm tall. It means that there are 16 players with a height that's somewhere between 174.5 cm and 175.5 cm. Standard rounding rules determine that, for example, a player whose height is 174.6 should be recorded as having a height of 175."
   ]
  },
  {
   "cell_type": "markdown",
   "metadata": {},
   "source": [
    "The height of 175 cm has a frequency of 16 in the distribution of the Height variable."
   ]
  },
  {
   "cell_type": "code",
   "execution_count": 60,
   "metadata": {},
   "outputs": [
    {
     "name": "stdout",
     "output_type": "stream",
     "text": [
      "16\n"
     ]
    }
   ],
   "source": [
    "print(wnba['Height'].value_counts()[175])"
   ]
  },
  {
   "cell_type": "markdown",
   "metadata": {},
   "source": [
    "Continuous variables also affect the way we read percentiles. For instance, the 50th percentile (middle quartile) in the distribution of the Height variable is 185 cm."
   ]
  },
  {
   "cell_type": "code",
   "execution_count": 61,
   "metadata": {},
   "outputs": [
    {
     "name": "stdout",
     "output_type": "stream",
     "text": [
      "min    165.0\n",
      "25%    176.5\n",
      "50%    185.0\n",
      "75%    191.0\n",
      "max    206.0\n",
      "Name: Height, dtype: float64\n"
     ]
    }
   ],
   "source": [
    "print(wnba['Height'].describe().iloc[3:])"
   ]
  },
  {
   "cell_type": "markdown",
   "metadata": {},
   "source": [
    "This means that 50% of the values are less than or equal to 185.5 cm (the upper limit of 185 cm), not equal to 185 cm."
   ]
  },
  {
   "cell_type": "markdown",
   "metadata": {},
   "source": [
    "Now, we know how to organize data in frequency and grouped frequency tables. Frequency tables allow us to transform large and incomprehensible amounts of data to a format we can understand."
   ]
  }
 ],
 "metadata": {
  "kernelspec": {
   "display_name": "Python 3",
   "language": "python",
   "name": "python3"
  },
  "language_info": {
   "codemirror_mode": {
    "name": "ipython",
    "version": 3
   },
   "file_extension": ".py",
   "mimetype": "text/x-python",
   "name": "python",
   "nbconvert_exporter": "python",
   "pygments_lexer": "ipython3",
   "version": "3.8.5"
  }
 },
 "nbformat": 4,
 "nbformat_minor": 4
}
